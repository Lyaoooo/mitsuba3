{
 "cells": [
  {
   "cell_type": "code",
   "execution_count": 1,
   "metadata": {},
   "outputs": [],
   "source": [
    "import sys, os\n",
    "cwd_split = os.getcwd().split(os.sep)\n",
    "root = os.sep.join(cwd_split[:cwd_split.index('mitsuba3-sensor')])\n",
    "sys.path.insert(0, f\"{root}/mitsuba3-sensor/build/python\")"
   ]
  },
  {
   "cell_type": "code",
   "execution_count": 2,
   "metadata": {},
   "outputs": [],
   "source": [
    "import drjit as dr\n",
    "import mitsuba as mi\n",
    "import os\n",
    "\n",
    "from matplotlib import pyplot as plt\n",
    "import matplotlib.cm as cm\n",
    "import numpy as np\n",
    "\n",
    "mi.set_variant('cuda_ad_rgb')\n",
    "\n",
    "import integrator.camera"
   ]
  },
  {
   "cell_type": "markdown",
   "metadata": {},
   "source": [
    "# Scene"
   ]
  },
  {
   "cell_type": "code",
   "execution_count": 3,
   "metadata": {},
   "outputs": [],
   "source": [
    "from mitsuba.scalar_rgb import Transform4f as T\n",
    "integrator = {\n",
    "    # 'type': 'direct_projective',\n",
    "    'type': 'camera'\n",
    "    # 'type': 'camera',\n",
    "    # 'type' : 'prb_projective'\n",
    "    # 'type': 'direct_reparam'\n",
    "}\n",
    "\n",
    "img_size = 100\n",
    "\n",
    "sensor_to_world = T.look_at(\n",
    "                        origin=(0, 0, 2),\n",
    "                        target=(0, 0, 0),\n",
    "                        up=(0, 1, 0)\n",
    "                    )\n",
    "\n",
    "scene = mi.load_dict({\n",
    "    'type': 'scene',\n",
    "    'integrator': integrator,\n",
    "    'sensor':  {\n",
    "        'type': 'perspective',\n",
    "        'to_world': sensor_to_world,\n",
    "        'fov': 90,\n",
    "        'film': {\n",
    "            'type': 'hdrfilm',\n",
    "            'width': img_size,\n",
    "            'height': img_size,\n",
    "            'rfilter': { 'type': 'gaussian' },\n",
    "            'sample_border': True\n",
    "        },\n",
    "    },\n",
    "    'wall': {\n",
    "        'type': 'rectangle',\n",
    "        'to_world': T.translate([0, 0, 0]).scale(2),\n",
    "        'bsdf': {\n",
    "            'type': 'diffuse',\n",
    "            'reflectance': { 'type': 'rgb', 'value': (0.5, 0.5, 0.5) },\n",
    "        },\n",
    "        'emitter': {\n",
    "            'type': 'area',\n",
    "            'radiance': {'type': 'rgb', 'value': [5, 0, 0]}\n",
    "        },\n",
    "    },\n",
    "    'block': {\n",
    "        # 'type': 'sphere',\n",
    "        'type': 'rectangle',\n",
    "        'to_world': T.translate([-0.4, 0, 1]).scale(0.4),\n",
    "        'bsdf': {\n",
    "            'type': 'diffuse'\n",
    "        },\n",
    "        'emitter': {\n",
    "            'type': 'area',\n",
    "            'radiance': {'type': 'rgb', 'value': [10, 10, 10]}\n",
    "        },\n",
    "    },\n",
    "    # 'light': {\n",
    "    #     'type': 'disk',\n",
    "    #     'emitter': {\n",
    "    #         'type': 'area',\n",
    "    #         'radiance': {'type': 'rgb', 'value': [10, 10, 10]}\n",
    "    #     },\n",
    "    #     'to_world': T.look_at(\n",
    "    #                     origin=(1, 1, 3),\n",
    "    #                     target=(0, 0, 0),\n",
    "    #                     up=(0, 1, 0)\n",
    "    #                 ).scale(0.5),\n",
    "    # }\n",
    "})"
   ]
  },
  {
   "cell_type": "code",
   "execution_count": 4,
   "metadata": {},
   "outputs": [],
   "source": [
    "params = mi.traverse(scene)\n",
    "key = 'sensor.to_world'\n",
    "\n",
    "def apply_trafo(params, value):\n",
    "    trafo = mi.Transform4f.translate([value, 0.0, 0.0])\n",
    "    # trafo = mi.Transform4f.translate([0.0, 0.0, 0.0]).rotate([0, 0, 1], value)\n",
    "    # trafo = mi.Transform4f.translate([0.0, 0.0, value])\n",
    "\n",
    "    params[key] = trafo @ sensor_to_world\n",
    "    params.update()"
   ]
  },
  {
   "cell_type": "code",
   "execution_count": 5,
   "metadata": {},
   "outputs": [],
   "source": [
    "img_ref = mi.render(scene, seed=0, spp=1024)\n",
    "mi.Bitmap(img_ref).write(\"output/primal.exr\")"
   ]
  },
  {
   "cell_type": "markdown",
   "metadata": {},
   "source": [
    "# Gradient"
   ]
  },
  {
   "cell_type": "code",
   "execution_count": 6,
   "metadata": {},
   "outputs": [
    {
     "name": "stdout",
     "output_type": "stream",
     "text": [
      "16/16\r"
     ]
    }
   ],
   "source": [
    "# Finite differences\n",
    "def fd(esp=1e-3):\n",
    "    fd_spp = 512\n",
    "    fd_repeat = 16\n",
    "\n",
    "    img1 = dr.zeros(mi.TensorXf, (img_size, img_size, 3))\n",
    "    img2 = dr.zeros(mi.TensorXf, (img_size, img_size, 3))\n",
    "\n",
    "    for it in range(fd_repeat):\n",
    "        apply_trafo(params, -epsilon)\n",
    "        img1 += mi.render(scene, spp=fd_spp, seed=it)\n",
    "        params.update()\n",
    "\n",
    "        apply_trafo(params, +epsilon)\n",
    "        img2 += mi.render(scene, spp=fd_spp, seed=it)\n",
    "        params.update()\n",
    "\n",
    "        print(f\"{it+1}/{fd_repeat}\", end='\\r')\n",
    "\n",
    "    img_fd = (img2 - img1) / (epsilon*2) / fd_repeat\n",
    "\n",
    "    return img_fd\n",
    "\n",
    "if True:\n",
    "    epsilon = 5e-4\n",
    "    mi.Bitmap(fd(epsilon)).write(\"output/grad_fd_%.0e.exr\" % epsilon)\n",
    "\n",
    "    epsilon = 1e-3\n",
    "    mi.Bitmap(fd(epsilon)).write(\"output/grad_fd_%.0e.exr\" % epsilon)"
   ]
  },
  {
   "cell_type": "markdown",
   "metadata": {},
   "source": [
    "# Prb"
   ]
  },
  {
   "cell_type": "code",
   "execution_count": 7,
   "metadata": {},
   "outputs": [],
   "source": [
    "x = mi.Float(0.0)\n",
    "dr.enable_grad(x)\n",
    "apply_trafo(params, x)\n",
    "dr.forward(x, dr.ADFlag.ClearEdges)\n",
    "\n",
    "image = mi.render(scene, params = params, spp=1024 * 8)"
   ]
  },
  {
   "cell_type": "code",
   "execution_count": 8,
   "metadata": {},
   "outputs": [],
   "source": [
    "img_guided = dr.forward_to(image)\n",
    "mi.Bitmap(img_guided).write(\"output/grad.exr\")"
   ]
  },
  {
   "cell_type": "code",
   "execution_count": null,
   "metadata": {},
   "outputs": [],
   "source": []
  }
 ],
 "metadata": {
  "kernelspec": {
   "display_name": "mi",
   "language": "python",
   "name": "python3"
  },
  "language_info": {
   "codemirror_mode": {
    "name": "ipython",
    "version": 3
   },
   "file_extension": ".py",
   "mimetype": "text/x-python",
   "name": "python",
   "nbconvert_exporter": "python",
   "pygments_lexer": "ipython3",
   "version": "3.8.16"
  }
 },
 "nbformat": 4,
 "nbformat_minor": 2
}
